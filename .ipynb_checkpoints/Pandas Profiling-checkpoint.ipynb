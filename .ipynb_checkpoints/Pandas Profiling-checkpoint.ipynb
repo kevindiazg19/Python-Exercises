{
 "cells": [
  {
   "cell_type": "code",
   "execution_count": 1,
   "metadata": {},
   "outputs": [
    {
     "name": "stdout",
     "output_type": "stream",
     "text": [
      "Collecting pandas_profiling\n",
      "  Downloading https://files.pythonhosted.org/packages/2c/2f/aae19e2173c10a9bb7fee5f5cad35dbe53a393960fc91abc477dcc4661e8/pandas-profiling-2.3.0.tar.gz (127kB)\n",
      "Requirement already satisfied: pandas>=0.19 in c:\\programdata\\anaconda3\\lib\\site-packages (from pandas_profiling) (0.24.2)\n",
      "Requirement already satisfied: matplotlib>=1.4 in c:\\programdata\\anaconda3\\lib\\site-packages (from pandas_profiling) (3.1.0)\n",
      "Requirement already satisfied: jinja2>=2.8 in c:\\programdata\\anaconda3\\lib\\site-packages (from pandas_profiling) (2.10.1)\n",
      "Collecting missingno>=0.4.2 (from pandas_profiling)\n",
      "  Downloading https://files.pythonhosted.org/packages/2b/de/6e4dd6d720c49939544352155dc06a08c9f7e4271aa631a559dfbeaaf9d4/missingno-0.4.2-py3-none-any.whl\n",
      "Collecting htmlmin>=0.1.12 (from pandas_profiling)\n",
      "  Downloading https://files.pythonhosted.org/packages/b3/e7/fcd59e12169de19f0131ff2812077f964c6b960e7c09804d30a7bf2ab461/htmlmin-0.1.12.tar.gz\n",
      "Collecting phik>=0.9.8 (from pandas_profiling)\n",
      "  Downloading https://files.pythonhosted.org/packages/45/ad/24a16fa4ba612fb96a3c4bb115a5b9741483f53b66d3d3afd987f20fa227/phik-0.9.8-py3-none-any.whl (606kB)\n",
      "Collecting confuse>=1.0.0 (from pandas_profiling)\n",
      "  Downloading https://files.pythonhosted.org/packages/4c/6f/90e860cba937c174d8b3775729ccc6377eb91f52ad4eeb008e7252a3646d/confuse-1.0.0.tar.gz\n",
      "Requirement already satisfied: astropy in c:\\programdata\\anaconda3\\lib\\site-packages (from pandas_profiling) (3.2.1)\n",
      "Requirement already satisfied: numpy>=1.12.0 in c:\\programdata\\anaconda3\\lib\\site-packages (from pandas>=0.19->pandas_profiling) (1.16.4)\n",
      "Requirement already satisfied: python-dateutil>=2.5.0 in c:\\programdata\\anaconda3\\lib\\site-packages (from pandas>=0.19->pandas_profiling) (2.8.0)\n",
      "Requirement already satisfied: pytz>=2011k in c:\\programdata\\anaconda3\\lib\\site-packages (from pandas>=0.19->pandas_profiling) (2019.1)\n",
      "Requirement already satisfied: cycler>=0.10 in c:\\programdata\\anaconda3\\lib\\site-packages (from matplotlib>=1.4->pandas_profiling) (0.10.0)\n",
      "Requirement already satisfied: kiwisolver>=1.0.1 in c:\\programdata\\anaconda3\\lib\\site-packages (from matplotlib>=1.4->pandas_profiling) (1.1.0)\n",
      "Requirement already satisfied: pyparsing!=2.0.4,!=2.1.2,!=2.1.6,>=2.0.1 in c:\\programdata\\anaconda3\\lib\\site-packages (from matplotlib>=1.4->pandas_profiling) (2.4.0)\n",
      "Requirement already satisfied: MarkupSafe>=0.23 in c:\\programdata\\anaconda3\\lib\\site-packages (from jinja2>=2.8->pandas_profiling) (1.1.1)\n",
      "Requirement already satisfied: scipy in c:\\programdata\\anaconda3\\lib\\site-packages (from missingno>=0.4.2->pandas_profiling) (1.2.1)\n",
      "Requirement already satisfied: seaborn in c:\\programdata\\anaconda3\\lib\\site-packages (from missingno>=0.4.2->pandas_profiling) (0.9.0)\n",
      "Requirement already satisfied: numba>=0.38.1 in c:\\programdata\\anaconda3\\lib\\site-packages (from phik>=0.9.8->pandas_profiling) (0.44.1)\n",
      "Collecting pytest-pylint>=0.13.0 (from phik>=0.9.8->pandas_profiling)\n",
      "  Downloading https://files.pythonhosted.org/packages/64/dc/6f35f114844fb12e38d60c4f3d2441a55baff7043ad4e013777dff55746c/pytest_pylint-0.14.1-py3-none-any.whl\n",
      "Requirement already satisfied: pytest>=4.0.2 in c:\\programdata\\anaconda3\\lib\\site-packages (from phik>=0.9.8->pandas_profiling) (5.0.1)\n",
      "Requirement already satisfied: nbconvert>=5.3.1 in c:\\programdata\\anaconda3\\lib\\site-packages (from phik>=0.9.8->pandas_profiling) (5.5.0)\n",
      "Requirement already satisfied: jupyter-client>=5.2.3 in c:\\programdata\\anaconda3\\lib\\site-packages (from phik>=0.9.8->pandas_profiling) (5.3.1)\n",
      "Requirement already satisfied: pyyaml in c:\\programdata\\anaconda3\\lib\\site-packages (from confuse>=1.0.0->pandas_profiling) (5.1.1)\n",
      "Requirement already satisfied: six>=1.5 in c:\\programdata\\anaconda3\\lib\\site-packages (from python-dateutil>=2.5.0->pandas>=0.19->pandas_profiling) (1.12.0)\n",
      "Requirement already satisfied: setuptools in c:\\programdata\\anaconda3\\lib\\site-packages (from kiwisolver>=1.0.1->matplotlib>=1.4->pandas_profiling) (41.0.1)\n",
      "Requirement already satisfied: llvmlite>=0.29.0 in c:\\programdata\\anaconda3\\lib\\site-packages (from numba>=0.38.1->phik>=0.9.8->pandas_profiling) (0.29.0)\n",
      "Requirement already satisfied: pylint>=1.4.5 in c:\\programdata\\anaconda3\\lib\\site-packages (from pytest-pylint>=0.13.0->phik>=0.9.8->pandas_profiling) (2.3.1)\n",
      "Requirement already satisfied: py>=1.5.0 in c:\\programdata\\anaconda3\\lib\\site-packages (from pytest>=4.0.2->phik>=0.9.8->pandas_profiling) (1.8.0)\n",
      "Requirement already satisfied: packaging in c:\\programdata\\anaconda3\\lib\\site-packages (from pytest>=4.0.2->phik>=0.9.8->pandas_profiling) (19.0)\n",
      "Requirement already satisfied: attrs>=17.4.0 in c:\\programdata\\anaconda3\\lib\\site-packages (from pytest>=4.0.2->phik>=0.9.8->pandas_profiling) (19.1.0)\n",
      "Requirement already satisfied: more-itertools>=4.0.0 in c:\\programdata\\anaconda3\\lib\\site-packages (from pytest>=4.0.2->phik>=0.9.8->pandas_profiling) (7.0.0)\n",
      "Requirement already satisfied: atomicwrites>=1.0 in c:\\programdata\\anaconda3\\lib\\site-packages (from pytest>=4.0.2->phik>=0.9.8->pandas_profiling) (1.3.0)\n",
      "Requirement already satisfied: pluggy<1.0,>=0.12 in c:\\programdata\\anaconda3\\lib\\site-packages (from pytest>=4.0.2->phik>=0.9.8->pandas_profiling) (0.12.0)\n",
      "Requirement already satisfied: importlib-metadata>=0.12 in c:\\programdata\\anaconda3\\lib\\site-packages (from pytest>=4.0.2->phik>=0.9.8->pandas_profiling) (0.17)\n",
      "Requirement already satisfied: wcwidth in c:\\programdata\\anaconda3\\lib\\site-packages (from pytest>=4.0.2->phik>=0.9.8->pandas_profiling) (0.1.7)\n",
      "Requirement already satisfied: colorama in c:\\programdata\\anaconda3\\lib\\site-packages (from pytest>=4.0.2->phik>=0.9.8->pandas_profiling) (0.4.1)\n",
      "Requirement already satisfied: nbformat>=4.4 in c:\\programdata\\anaconda3\\lib\\site-packages (from nbconvert>=5.3.1->phik>=0.9.8->pandas_profiling) (4.4.0)\n",
      "Requirement already satisfied: testpath in c:\\programdata\\anaconda3\\lib\\site-packages (from nbconvert>=5.3.1->phik>=0.9.8->pandas_profiling) (0.4.2)\n",
      "Requirement already satisfied: defusedxml in c:\\programdata\\anaconda3\\lib\\site-packages (from nbconvert>=5.3.1->phik>=0.9.8->pandas_profiling) (0.6.0)\n",
      "Requirement already satisfied: mistune>=0.8.1 in c:\\programdata\\anaconda3\\lib\\site-packages (from nbconvert>=5.3.1->phik>=0.9.8->pandas_profiling) (0.8.4)\n",
      "Requirement already satisfied: pygments in c:\\programdata\\anaconda3\\lib\\site-packages (from nbconvert>=5.3.1->phik>=0.9.8->pandas_profiling) (2.4.2)\n",
      "Requirement already satisfied: entrypoints>=0.2.2 in c:\\programdata\\anaconda3\\lib\\site-packages (from nbconvert>=5.3.1->phik>=0.9.8->pandas_profiling) (0.3)\n",
      "Requirement already satisfied: bleach in c:\\programdata\\anaconda3\\lib\\site-packages (from nbconvert>=5.3.1->phik>=0.9.8->pandas_profiling) (3.1.0)\n",
      "Requirement already satisfied: traitlets>=4.2 in c:\\programdata\\anaconda3\\lib\\site-packages (from nbconvert>=5.3.1->phik>=0.9.8->pandas_profiling) (4.3.2)\n",
      "Requirement already satisfied: pandocfilters>=1.4.1 in c:\\programdata\\anaconda3\\lib\\site-packages (from nbconvert>=5.3.1->phik>=0.9.8->pandas_profiling) (1.4.2)\n",
      "Requirement already satisfied: jupyter-core in c:\\programdata\\anaconda3\\lib\\site-packages (from nbconvert>=5.3.1->phik>=0.9.8->pandas_profiling) (4.5.0)\n",
      "Requirement already satisfied: tornado>=4.1 in c:\\programdata\\anaconda3\\lib\\site-packages (from jupyter-client>=5.2.3->phik>=0.9.8->pandas_profiling) (6.0.3)\n",
      "Requirement already satisfied: pyzmq>=13 in c:\\programdata\\anaconda3\\lib\\site-packages (from jupyter-client>=5.2.3->phik>=0.9.8->pandas_profiling) (18.0.0)\n",
      "Requirement already satisfied: astroid<3,>=2.2.0 in c:\\programdata\\anaconda3\\lib\\site-packages (from pylint>=1.4.5->pytest-pylint>=0.13.0->phik>=0.9.8->pandas_profiling) (2.2.5)\n",
      "Requirement already satisfied: isort<5,>=4.2.5 in c:\\programdata\\anaconda3\\lib\\site-packages (from pylint>=1.4.5->pytest-pylint>=0.13.0->phik>=0.9.8->pandas_profiling) (4.3.21)\n",
      "Requirement already satisfied: mccabe<0.7,>=0.6 in c:\\programdata\\anaconda3\\lib\\site-packages (from pylint>=1.4.5->pytest-pylint>=0.13.0->phik>=0.9.8->pandas_profiling) (0.6.1)\n",
      "Requirement already satisfied: zipp>=0.5 in c:\\programdata\\anaconda3\\lib\\site-packages (from importlib-metadata>=0.12->pytest>=4.0.2->phik>=0.9.8->pandas_profiling) (0.5.1)\n",
      "Requirement already satisfied: ipython-genutils in c:\\programdata\\anaconda3\\lib\\site-packages (from nbformat>=4.4->nbconvert>=5.3.1->phik>=0.9.8->pandas_profiling) (0.2.0)\n",
      "Requirement already satisfied: jsonschema!=2.5.0,>=2.4 in c:\\programdata\\anaconda3\\lib\\site-packages (from nbformat>=4.4->nbconvert>=5.3.1->phik>=0.9.8->pandas_profiling) (3.0.1)\n",
      "Requirement already satisfied: webencodings in c:\\programdata\\anaconda3\\lib\\site-packages (from bleach->nbconvert>=5.3.1->phik>=0.9.8->pandas_profiling) (0.5.1)\n",
      "Requirement already satisfied: decorator in c:\\programdata\\anaconda3\\lib\\site-packages (from traitlets>=4.2->nbconvert>=5.3.1->phik>=0.9.8->pandas_profiling) (4.4.0)\n",
      "Collecting typed-ast>=1.3.0; implementation_name == \"cpython\" (from astroid<3,>=2.2.0->pylint>=1.4.5->pytest-pylint>=0.13.0->phik>=0.9.8->pandas_profiling)\n",
      "  Downloading https://files.pythonhosted.org/packages/47/a1/7a24868c15d84ed7446106d6c3d73807f58232a695452c0a29679e5a1523/typed_ast-1.4.0-cp37-cp37m-win_amd64.whl (155kB)\n",
      "Requirement already satisfied: wrapt in c:\\programdata\\anaconda3\\lib\\site-packages (from astroid<3,>=2.2.0->pylint>=1.4.5->pytest-pylint>=0.13.0->phik>=0.9.8->pandas_profiling) (1.11.2)\n",
      "Requirement already satisfied: lazy-object-proxy in c:\\programdata\\anaconda3\\lib\\site-packages (from astroid<3,>=2.2.0->pylint>=1.4.5->pytest-pylint>=0.13.0->phik>=0.9.8->pandas_profiling) (1.4.1)\n",
      "Requirement already satisfied: pyrsistent>=0.14.0 in c:\\programdata\\anaconda3\\lib\\site-packages (from jsonschema!=2.5.0,>=2.4->nbformat>=4.4->nbconvert>=5.3.1->phik>=0.9.8->pandas_profiling) (0.14.11)\n",
      "Building wheels for collected packages: pandas-profiling, htmlmin, confuse\n",
      "  Building wheel for pandas-profiling (setup.py): started\n",
      "  Building wheel for pandas-profiling (setup.py): finished with status 'done'\n",
      "  Stored in directory: C:\\Users\\Kevin.Diaz.nscorp\\AppData\\Local\\pip\\Cache\\wheels\\ce\\c7\\f1\\dbfef4848ebb048cb1d4a22d1ed0c62d8ff2523747235e19fe\n",
      "  Building wheel for htmlmin (setup.py): started\n",
      "  Building wheel for htmlmin (setup.py): finished with status 'done'\n",
      "  Stored in directory: C:\\Users\\Kevin.Diaz.nscorp\\AppData\\Local\\pip\\Cache\\wheels\\43\\07\\ac\\7c5a9d708d65247ac1f94066cf1db075540b85716c30255459\n",
      "  Building wheel for confuse (setup.py): started\n",
      "  Building wheel for confuse (setup.py): finished with status 'done'\n",
      "  Stored in directory: C:\\Users\\Kevin.Diaz.nscorp\\AppData\\Local\\pip\\Cache\\wheels\\b0\\b2\\96\\2074eee7dbf7b7df69d004c9b6ac4e32dad04fb7666cf943bd\n",
      "Successfully built pandas-profiling htmlmin confuse\n",
      "Installing collected packages: missingno, htmlmin, pytest-pylint, phik, confuse, pandas-profiling, typed-ast\n",
      "Successfully installed confuse-1.0.0 htmlmin-0.1.12 missingno-0.4.2 pandas-profiling-2.3.0 phik-0.9.8 pytest-pylint-0.14.1 typed-ast-1.4.0\n"
     ]
    }
   ],
   "source": [
    "!pip install pandas_profiling"
   ]
  },
  {
   "cell_type": "code",
   "execution_count": null,
   "metadata": {},
   "outputs": [],
   "source": []
  }
 ],
 "metadata": {
  "kernelspec": {
   "display_name": "Python 3",
   "language": "python",
   "name": "python3"
  },
  "language_info": {
   "codemirror_mode": {
    "name": "ipython",
    "version": 3
   },
   "file_extension": ".py",
   "mimetype": "text/x-python",
   "name": "python",
   "nbconvert_exporter": "python",
   "pygments_lexer": "ipython3",
   "version": "3.7.3"
  }
 },
 "nbformat": 4,
 "nbformat_minor": 2
}
