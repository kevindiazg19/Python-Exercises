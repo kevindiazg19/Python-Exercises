{
 "cells": [
  {
   "cell_type": "code",
   "execution_count": 63,
   "metadata": {},
   "outputs": [
    {
     "name": "stdout",
     "output_type": "stream",
     "text": [
      "True\n"
     ]
    }
   ],
   "source": [
    "#Check if Palindrome\n",
    "iString=\"aabaa\"\n",
    "\n",
    "def checkPalindrome(inputString):\n",
    "    return inputString == inputString[::-1]\n",
    "\n",
    "print(checkPalindrome(iString))"
   ]
  },
  {
   "cell_type": "code",
   "execution_count": 11,
   "metadata": {},
   "outputs": [
    {
     "name": "stdout",
     "output_type": "stream",
     "text": [
      "21\n"
     ]
    }
   ],
   "source": [
    "#Get maximum products between two adjacent numbers in a list\n",
    "iAdjacent = [3,6,-2,-5,7,3]\n",
    "\n",
    "def adjacentElementsProduct(inputArray):\n",
    "    products=[]\n",
    "    for i in range(len(inputArray)-1):\n",
    "        products.append(inputArray[i]*inputArray[i+1])\n",
    "    #print(products)\n",
    "    return max(products)\n",
    "print(adjacentElementsProduct(iAdjacent))"
   ]
  },
  {
   "cell_type": "code",
   "execution_count": 32,
   "metadata": {},
   "outputs": [
    {
     "name": "stdout",
     "output_type": "stream",
     "text": [
      "1201\n"
     ]
    }
   ],
   "source": [
    "#Get area of an n-interesting polygon.\n",
    "i_n=25\n",
    "\n",
    "def shapeArea(n):\n",
    "#    if n==1:\n",
    "#        return 1\n",
    "#    else:\n",
    "#        return 4*(n-1)+shapeArea(n-1)\n",
    "    return (n*n)+(n-1)*(n-1)\n",
    "        \n",
    "print(shapeArea(i_n))"
   ]
  },
  {
   "cell_type": "code",
   "execution_count": 61,
   "metadata": {},
   "outputs": [
    {
     "name": "stdout",
     "output_type": "stream",
     "text": [
      "3\n"
     ]
    }
   ],
   "source": [
    "#Figure out minimum number of additional statues needed\n",
    "istatues=[6, 2, 3, 8]\n",
    "def makeArrayConsecutive2(statues):\n",
    "    #statues.sort()\n",
    "    allStatues= [i for i in range(min(statues),max(statues)+1)]#creates list including last and max element\n",
    "    additional = list(set(allStatues)-set(statues))\n",
    "    return len(additional)\n",
    "\n",
    "print(makeArrayConsecutive2(istatues))"
   ]
  },
  {
   "cell_type": "code",
   "execution_count": 62,
   "metadata": {},
   "outputs": [
    {
     "name": "stdout",
     "output_type": "stream",
     "text": [
      "c\n"
     ]
    }
   ],
   "source": [
    "#First not repeating character\n",
    "icharacter=\"aabbaacdbaa\"\n",
    "from collections import defaultdict\n",
    "def firstNotRepeatingCharacter(s):\n",
    "    d=defaultdict(int)\n",
    "    for i in s:\n",
    "        d[i]+=1\n",
    "    for i in d:\n",
    "        if d[i]==1:\n",
    "            return i\n",
    "    return '_'\n",
    "\n",
    "print(firstNotRepeatingCharacter(icharacter))"
   ]
  },
  {
   "cell_type": "code",
   "execution_count": 105,
   "metadata": {},
   "outputs": [
    {
     "name": "stdout",
     "output_type": "stream",
     "text": [
      "[3, 2]\n",
      "GlobalIncrase:False\n",
      "False\n",
      "[1, 2]\n",
      "GlobalIncrase:False\n",
      "True\n",
      "[1, 3]\n",
      "GlobalIncrase:False\n",
      "True\n",
      "FinalIncrease:True\n"
     ]
    }
   ],
   "source": [
    "isequence= [1,3,2]\n",
    "def almostIncreasingSequence(sequence):\n",
    "    globalIncrease=False\n",
    "    duplex=list(sequence)\n",
    "    increase=False\n",
    "    for i in sequence:\n",
    "        duplex.remove(i)\n",
    "        print(duplex)\n",
    "        print(\"GlobalIncrase:\"+str(globalIncrease))\n",
    "        if increase==True:\n",
    "            globalIncrease=True\n",
    "        for j in range(len(duplex)-1):\n",
    "            if duplex[j]<duplex[j+1]:\n",
    "                increase=True\n",
    "                duplex=list(sequence)\n",
    "                print(increase)\n",
    "            else:\n",
    "                increase=False\n",
    "                duplex=list(sequence)\n",
    "                print(increase)\n",
    "                break\n",
    "            \n",
    "    return \"FinalIncrease:\"+str(increase)\n",
    "\n",
    "print(almostIncreasingSequence(isequence))"
   ]
  },
  {
   "cell_type": "code",
   "execution_count": 107,
   "metadata": {},
   "outputs": [
    {
     "name": "stdout",
     "output_type": "stream",
     "text": [
      "[1, 1, 3, 2, 2, 2]\n",
      "2\n",
      "1\n",
      "False\n"
     ]
    }
   ],
   "source": [
    "isequence= [1,1,1,3,2,2,2]\n",
    "def almostIncreasingSequence(sequence):    \n",
    "    #是否存在特殊点\n",
    "    newflag = 1\n",
    "    #特殊点的下标\n",
    "    flag = 0\n",
    "    for i in range(len(sequence)-1):\n",
    "        #一旦发现有大于的，就1/退出当前循环，1、比较后面新的字符串2、或者继续比较后续的字符串\n",
    "        if sequence[i] >= sequence[i+1] :\n",
    "            newflag = newflag+1\n",
    "            flag = i\n",
    "            #特殊点是最后一个，直接返回true\n",
    "            if (flag+1) == (len(sequence)-1) :\n",
    "                return True\n",
    "            arry = sequence[i+1:]\n",
    "            print(arry)\n",
    "            #遍历后面的是否是递增 ,如果不是递增直接返回false\n",
    "            for z in range(len(arry)-1):\n",
    "                print(sequence[i-1])\n",
    "                print(arry[0])\n",
    "                if arry[z] >= arry[z+1] :\n",
    "                    return False\n",
    "            else:\n",
    "                #没有发现后续节点有特殊点，则返回true\n",
    "                if len(arry)!=1:\n",
    "                    if sequence[i] < arry[1] :\n",
    "                        return True\n",
    "            break\n",
    "    #找到了特殊点，删掉，新的列表，是否是递增\n",
    "    if newflag != 1 :\n",
    "        del sequence[flag]\n",
    "        for index in range(len(sequence)-1):\n",
    "            if sequence[index] >= sequence[index+1]:\n",
    "                return False\n",
    "        else:\n",
    "            return True\n",
    "    else:  \n",
    "        return True\n",
    "    \n",
    "print(almostIncreasingSequence(isequence))"
   ]
  },
  {
   "cell_type": "code",
   "execution_count": 151,
   "metadata": {
    "scrolled": true
   },
   "outputs": [
    {
     "name": "stdout",
     "output_type": "stream",
     "text": [
      "5\n"
     ]
    }
   ],
   "source": [
    "#Sum of non Ghost rooms (0), under zero\n",
    "imatrix=[[1,0,3], \n",
    " [0,2,1], \n",
    " [1,2,0]]\n",
    "\n",
    "def matrixElementsSum(matrix):\n",
    "    roomSum=0\n",
    "    for i in range(len(matrix)):\n",
    "        for j in range(len(matrix[i])):\n",
    "            if matrix[i][j]!=0:\n",
    "                if i>0:\n",
    "                    if matrix[i-1][j]!=0:\n",
    "                        if matrix[0][j]!=0:\n",
    "                            roomSum+=matrix[i][j]\n",
    "                else:\n",
    "                    roomSum+=matrix[i][j]\n",
    "    return roomSum\n",
    "\n",
    "print(matrixElementsSum(imatrix))"
   ]
  },
  {
   "cell_type": "code",
   "execution_count": 142,
   "metadata": {},
   "outputs": [
    {
     "name": "stdout",
     "output_type": "stream",
     "text": [
      "(0,0): 1 (0,1): 1 (0,2): 1 (0,3): 0 \n",
      "(1,0): 0 (1,1): 5 (1,2): 0 (1,3): 1 \n",
      "(2,0): 2 (2,1): 1 (2,2): 3 (2,3): 10 \n"
     ]
    }
   ],
   "source": [
    "#Iterating through 2D matrix\n",
    "ixmatrix=[[1, 1, 1, 0],\n",
    "         [0, 5, 0, 1],\n",
    "         [2, 1, 3, 10]]\n",
    "          \n",
    "for i in range(len(ixmatrix)):\n",
    "    for j in range(len(ixmatrix[i])):\n",
    "        print(\"(\"+str(i)+\",\"+str(j)+\"): \"+str(ixmatrix[i][j]), end=' ')\n",
    "    print()"
   ]
  },
  {
   "cell_type": "code",
   "execution_count": 24,
   "metadata": {},
   "outputs": [
    {
     "name": "stdout",
     "output_type": "stream",
     "text": [
      "defaultdict(<class 'int'>, {2: 2, 3: 2, 5: 2, 4: 2, 6: 1})\n",
      "[2, 3, 5, 4]\n",
      "2\n"
     ]
    }
   ],
   "source": [
    "#find the first duplicate by index\n",
    "ia=[2, 2,3,5,4,3,5,4,6]\n",
    "from collections import defaultdict\n",
    "\n",
    "def firstDuplicate(a):\n",
    "    d=defaultdict(int) #All values and their counts\n",
    "    g=[]\n",
    "    for i in range(len(a)):\n",
    "        d[a[i]]+=1\n",
    "        if d[a[i]]>1:\n",
    "            g.append(a[i])\n",
    "    #g = [x for x in d if d[x]>1]\n",
    "    #print(d)\n",
    "    #print(g)\n",
    "    if len(g)>0:\n",
    "        return g[0]#The first duplicate found\n",
    "    else:\n",
    "        return -1#No duplicates on list\n",
    "print(firstDuplicate(ia))"
   ]
  },
  {
   "cell_type": "code",
   "execution_count": 35,
   "metadata": {},
   "outputs": [
    {
     "name": "stdout",
     "output_type": "stream",
     "text": [
      "[1, 4, 7]\n",
      "[2, 5, 8]\n",
      "[3, 6, 9]\n",
      "[[7, 4, 1], [8, 5, 2], [9, 6, 3]]\n"
     ]
    }
   ],
   "source": [
    "ia = [[1, 2, 3],\n",
    "     [4, 5, 6],\n",
    "     [7, 8, 9]]\n",
    "\n",
    "\n",
    "def rotateImage(a):\n",
    "    b=[]\n",
    "    for i in range(len(a)):\n",
    "        c=[]\n",
    "        for j in range(len(a[i])):\n",
    "            c.append(a[j][i])   \n",
    "        print(c)\n",
    "        c.reverse()\n",
    "        b.append(c)\n",
    "    return b\n",
    "            \n",
    "print(rotateImage(ia))"
   ]
  },
  {
   "cell_type": "code",
   "execution_count": 26,
   "metadata": {},
   "outputs": [
    {
     "name": "stdout",
     "output_type": "stream",
     "text": [
      "<generator object <genexpr> at 0x00000219DFBDEA48>\n"
     ]
    }
   ],
   "source": [
    "[[7, 4, 1],\n",
    " [8, 5, 2],\n",
    " [9, 6, 3]]"
   ]
  },
  {
   "cell_type": "code",
   "execution_count": null,
   "metadata": {},
   "outputs": [],
   "source": []
  }
 ],
 "metadata": {
  "kernelspec": {
   "display_name": "Python 3",
   "language": "python",
   "name": "python3"
  },
  "language_info": {
   "codemirror_mode": {
    "name": "ipython",
    "version": 3
   },
   "file_extension": ".py",
   "mimetype": "text/x-python",
   "name": "python",
   "nbconvert_exporter": "python",
   "pygments_lexer": "ipython3",
   "version": "3.7.4"
  }
 },
 "nbformat": 4,
 "nbformat_minor": 2
}
