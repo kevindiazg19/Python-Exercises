{
 "cells": [
  {
   "cell_type": "code",
   "execution_count": null,
   "metadata": {},
   "outputs": [],
   "source": []
  },
  {
   "cell_type": "markdown",
   "metadata": {},
   "source": [
    "## Ejercicio\n",
    "Adivina el número: Nuestro objetivo es adivinar el número. Si fallamos nos dirán si es mayor o menor que el número buscado. También poner el número de intentos requeridos."
   ]
  },
  {
   "cell_type": "code",
   "execution_count": 2,
   "metadata": {},
   "outputs": [],
   "source": [
    "#importamos la libreria necesaria\n",
    "from random import *"
   ]
  },
  {
   "cell_type": "code",
   "execution_count": 3,
   "metadata": {},
   "outputs": [],
   "source": [
    "#Definimos nuestra función para generar número aleatorios\n",
    "#Recibe dos parametros minimo y maximo\n",
    "\n",
    "def generaNumeroAleatorio(minimo,maximo):\n",
    " \n",
    "    try:\n",
    "        if minimo > maximo: #evaluamos con un if si el actual minimo es mayor al maximo\n",
    "            aux = minimo    #asignamos temporalmente el valor un una variable auxiliar\n",
    "            minimo = maximo #\n",
    "            maximo = aux\n",
    " \n",
    "        return randint(minimo, maximo)\n",
    "    except TypeError:       #se usa por si el usuario ingresa valores diferentes a números para que el programa no falle\n",
    "        print(\"Debes escribir numeros\")\n",
    "        return -1"
   ]
  },
  {
   "cell_type": "code",
   "execution_count": 4,
   "metadata": {},
   "outputs": [],
   "source": [
    "numero_buscado = generaNumeroAleatorio(1,100)\n",
    " \n",
    "encontrado = False\n",
    "intentos = 0"
   ]
  },
  {
   "cell_type": "code",
   "execution_count": 5,
   "metadata": {},
   "outputs": [
    {
     "name": "stdout",
     "output_type": "stream",
     "text": [
      "Introduce el número buscado: 30\n",
      "El numero que buscas es mayor\n",
      "Introduce el número buscado: 50\n",
      "El numero que buscas es mayor\n",
      "Introduce el número buscado: 70\n",
      "El numero que buscas es mayor\n",
      "Introduce el número buscado: 80\n",
      "El numero que buscas es mayor\n",
      "Introduce el número buscado: 90\n",
      "El numero que buscas es mayor\n",
      "Introduce el número buscado: 100\n",
      "El número que buscas es menor\n",
      "Introduce el número buscado: 05\n",
      "El numero que buscas es mayor\n",
      "Introduce el número buscado: 07\n",
      "El numero que buscas es mayor\n",
      "Introduce el número buscado: 97\n",
      "El número que buscas es menor\n",
      "Introduce el número buscado: 96\n",
      "El número que buscas es menor\n",
      "Introduce el número buscado: 95\n",
      "El número que buscas es menor\n",
      "Introduce el número buscado: 94\n",
      "Has acertado el número correcto es  94  te ha llevado  11  intentos\n"
     ]
    }
   ],
   "source": [
    "while not encontrado:\n",
    "     \n",
    "    numero_usuario = int(input(\"Introduce el número buscado: \"))\n",
    " \n",
    "    if numero_usuario > numero_buscado:\n",
    "        print(\"El número que buscas es menor\")\n",
    "        intentos = intentos +1\n",
    "    elif numero_usuario < numero_buscado:\n",
    "        print(\"El numero que buscas es mayor\")\n",
    "        intentos = intentos +1\n",
    "    else:\n",
    "        encontrado = True\n",
    "        print(\"Has acertado el número correcto es \" , numero_usuario, \" te ha llevado \", intentos,\" intentos\")\n"
   ]
  }
 ],
 "metadata": {
  "kernelspec": {
   "display_name": "Python 3",
   "language": "python",
   "name": "python3"
  },
  "language_info": {
   "codemirror_mode": {
    "name": "ipython",
    "version": 3
   },
   "file_extension": ".py",
   "mimetype": "text/x-python",
   "name": "python",
   "nbconvert_exporter": "python",
   "pygments_lexer": "ipython3",
   "version": "3.7.3"
  }
 },
 "nbformat": 4,
 "nbformat_minor": 2
}
