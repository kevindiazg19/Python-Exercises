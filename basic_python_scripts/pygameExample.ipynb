{
 "cells": [
  {
   "cell_type": "code",
   "execution_count": 1,
   "metadata": {
    "colab": {
     "base_uri": "https://localhost:8080/",
     "height": 122
    },
    "colab_type": "code",
    "id": "gI0-tWwBPH6L",
    "outputId": "4abcd56d-f4f9-4088-db82-40ec2a427021"
   },
   "outputs": [],
   "source": [
    "#!pip install pygame"
   ]
  },
  {
   "cell_type": "code",
   "execution_count": 2,
   "metadata": {
    "colab": {
     "base_uri": "https://localhost:8080/",
     "height": 51
    },
    "colab_type": "code",
    "id": "AoMthi0PPOS6",
    "outputId": "76c88946-9dd9-4bbc-af44-bdb987d72caf"
   },
   "outputs": [
    {
     "name": "stdout",
     "output_type": "stream",
     "text": [
      "pygame 1.9.6\n",
      "Hello from the pygame community. https://www.pygame.org/contribute.html\n"
     ]
    }
   ],
   "source": [
    "\"\"\"A simple starfield example. Note you can move the 'center' of\n",
    "the starfield by leftclicking in the window. This example show\n",
    "the basics of creating a window, simple pixel plotting, and input\n",
    "event management\"\"\"\n",
    "\n",
    "import random, math, pygame\n",
    "from pygame.locals import *\n",
    "\n",
    "#constants\n",
    "WINSIZE = [640, 480]\n",
    "WINCENTER = [320, 240]\n",
    "NUMSTARS = 150"
   ]
  },
  {
   "cell_type": "code",
   "execution_count": 3,
   "metadata": {
    "colab": {},
    "colab_type": "code",
    "id": "uYjSz66bPVJM"
   },
   "outputs": [],
   "source": [
    "def init_star():\n",
    "    \"creates new star values\"\n",
    "    dir = random.randrange(100000)\n",
    "    velmult = random.random()*.6+.4\n",
    "    vel = [math.sin(dir) * velmult, math.cos(dir) * velmult]\n",
    "    return vel, WINCENTER[:]\n"
   ]
  },
  {
   "cell_type": "code",
   "execution_count": 4,
   "metadata": {
    "colab": {},
    "colab_type": "code",
    "id": "cD6rKTe6PYha"
   },
   "outputs": [],
   "source": [
    "def initialize_stars():\n",
    "    \"creates a new starfield\"\n",
    "    stars = []\n",
    "    for x in range(NUMSTARS):\n",
    "        star = init_star()\n",
    "        vel, pos = star\n",
    "        steps = random.randint(0, WINCENTER[0])\n",
    "        pos[0] = pos[0] + (vel[0] * steps)\n",
    "        pos[1] = pos[1] + (vel[1] * steps)\n",
    "        vel[0] = vel[0] * (steps * .09)\n",
    "        vel[1] = vel[1] * (steps * .09)\n",
    "        stars.append(star)\n",
    "    move_stars(stars)\n",
    "    return stars"
   ]
  },
  {
   "cell_type": "code",
   "execution_count": 5,
   "metadata": {
    "colab": {},
    "colab_type": "code",
    "id": "xlVj4tvqPaX_"
   },
   "outputs": [],
   "source": [
    "def draw_stars(surface, stars, color):\n",
    "    \"used to draw (and clear) the stars\"\n",
    "    for vel, pos in stars:\n",
    "        pos = (int(pos[0]), int(pos[1]))\n",
    "        surface.set_at(pos, color)"
   ]
  },
  {
   "cell_type": "code",
   "execution_count": 6,
   "metadata": {
    "colab": {},
    "colab_type": "code",
    "id": "zuC0kZhqPcM2"
   },
   "outputs": [],
   "source": [
    "def move_stars(stars):\n",
    "    \"animate the star values\"\n",
    "    for vel, pos in stars:\n",
    "        pos[0] = pos[0] + vel[0]\n",
    "        pos[1] = pos[1] + vel[1]\n",
    "        if not 0 <= pos[0] <= WINSIZE[0] or not 0 <= pos[1] <= WINSIZE[1]:\n",
    "            vel[:], pos[:] = init_star()\n",
    "        else:\n",
    "            vel[0] = vel[0] * 1.05\n",
    "            vel[1] = vel[1] * 1.05"
   ]
  },
  {
   "cell_type": "code",
   "execution_count": 7,
   "metadata": {
    "colab": {},
    "colab_type": "code",
    "id": "LsJiJxnMPeGl"
   },
   "outputs": [],
   "source": [
    "def main():\n",
    "    \"This is the starfield code\"\n",
    "    #create our starfield\n",
    "    random.seed()\n",
    "    stars = initialize_stars()\n",
    "    clock = pygame.time.Clock()\n",
    "    #initialize and prepare screen\n",
    "    pygame.init()\n",
    "    screen = pygame.display.set_mode(WINSIZE)\n",
    "    pygame.display.set_caption('pygame Stars Example')\n",
    "    white = 255, 240, 200\n",
    "    black = 20, 20, 40\n",
    "    screen.fill(black)\n",
    "\n",
    "    #main game loop\n",
    "    done = 0\n",
    "    while not done:\n",
    "        draw_stars(screen, stars, black)\n",
    "        move_stars(stars)\n",
    "        draw_stars(screen, stars, white)\n",
    "        pygame.display.update()\n",
    "        for e in pygame.event.get():\n",
    "            if e.type == QUIT or (e.type == KEYUP and e.key == K_ESCAPE):\n",
    "                done = 1\n",
    "                break\n",
    "            elif e.type == MOUSEBUTTONDOWN and e.button == 1:\n",
    "                WINCENTER[:] = list(e.pos)\n",
    "        clock.tick(50)\n"
   ]
  },
  {
   "cell_type": "code",
   "execution_count": 8,
   "metadata": {
    "colab": {
     "base_uri": "https://localhost:8080/",
     "height": 299
    },
    "colab_type": "code",
    "id": "S57FqmY0Pg2W",
    "outputId": "0ea005d1-3f01-4de6-8b57-4dacbffebd8f"
   },
   "outputs": [
    {
     "ename": "KeyboardInterrupt",
     "evalue": "",
     "output_type": "error",
     "traceback": [
      "\u001b[1;31m---------------------------------------------------------------------------\u001b[0m",
      "\u001b[1;31mKeyboardInterrupt\u001b[0m                         Traceback (most recent call last)",
      "\u001b[1;32m<ipython-input-8-cd12cb95dca3>\u001b[0m in \u001b[0;36m<module>\u001b[1;34m\u001b[0m\n\u001b[0;32m      1\u001b[0m \u001b[1;31m# if python says run, then we should run\u001b[0m\u001b[1;33m\u001b[0m\u001b[1;33m\u001b[0m\u001b[1;33m\u001b[0m\u001b[0m\n\u001b[0;32m      2\u001b[0m \u001b[1;32mif\u001b[0m \u001b[0m__name__\u001b[0m \u001b[1;33m==\u001b[0m \u001b[1;34m'__main__'\u001b[0m\u001b[1;33m:\u001b[0m\u001b[1;33m\u001b[0m\u001b[1;33m\u001b[0m\u001b[0m\n\u001b[1;32m----> 3\u001b[1;33m     \u001b[0mmain\u001b[0m\u001b[1;33m(\u001b[0m\u001b[1;33m)\u001b[0m\u001b[1;33m\u001b[0m\u001b[1;33m\u001b[0m\u001b[0m\n\u001b[0m",
      "\u001b[1;32m<ipython-input-7-1f6a2a7274d7>\u001b[0m in \u001b[0;36mmain\u001b[1;34m()\u001b[0m\n\u001b[0;32m     26\u001b[0m             \u001b[1;32melif\u001b[0m \u001b[0me\u001b[0m\u001b[1;33m.\u001b[0m\u001b[0mtype\u001b[0m \u001b[1;33m==\u001b[0m \u001b[0mMOUSEBUTTONDOWN\u001b[0m \u001b[1;32mand\u001b[0m \u001b[0me\u001b[0m\u001b[1;33m.\u001b[0m\u001b[0mbutton\u001b[0m \u001b[1;33m==\u001b[0m \u001b[1;36m1\u001b[0m\u001b[1;33m:\u001b[0m\u001b[1;33m\u001b[0m\u001b[1;33m\u001b[0m\u001b[0m\n\u001b[0;32m     27\u001b[0m                 \u001b[0mWINCENTER\u001b[0m\u001b[1;33m[\u001b[0m\u001b[1;33m:\u001b[0m\u001b[1;33m]\u001b[0m \u001b[1;33m=\u001b[0m \u001b[0mlist\u001b[0m\u001b[1;33m(\u001b[0m\u001b[0me\u001b[0m\u001b[1;33m.\u001b[0m\u001b[0mpos\u001b[0m\u001b[1;33m)\u001b[0m\u001b[1;33m\u001b[0m\u001b[1;33m\u001b[0m\u001b[0m\n\u001b[1;32m---> 28\u001b[1;33m         \u001b[0mclock\u001b[0m\u001b[1;33m.\u001b[0m\u001b[0mtick\u001b[0m\u001b[1;33m(\u001b[0m\u001b[1;36m50\u001b[0m\u001b[1;33m)\u001b[0m\u001b[1;33m\u001b[0m\u001b[1;33m\u001b[0m\u001b[0m\n\u001b[0m",
      "\u001b[1;31mKeyboardInterrupt\u001b[0m: "
     ]
    }
   ],
   "source": [
    "# if python says run, then we should run\n",
    "if __name__ == '__main__':\n",
    "    main()"
   ]
  },
  {
   "cell_type": "code",
   "execution_count": null,
   "metadata": {
    "colab": {},
    "colab_type": "code",
    "id": "47CphklcPjAJ"
   },
   "outputs": [],
   "source": []
  }
 ],
 "metadata": {
  "colab": {
   "name": "pygameExample.ipynb",
   "provenance": []
  },
  "kernelspec": {
   "display_name": "Python 3",
   "language": "python",
   "name": "python3"
  },
  "language_info": {
   "codemirror_mode": {
    "name": "ipython",
    "version": 3
   },
   "file_extension": ".py",
   "mimetype": "text/x-python",
   "name": "python",
   "nbconvert_exporter": "python",
   "pygments_lexer": "ipython3",
   "version": "3.7.3"
  }
 },
 "nbformat": 4,
 "nbformat_minor": 1
}
